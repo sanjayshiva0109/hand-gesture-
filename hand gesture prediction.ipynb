{
 "cells": [
  {
   "cell_type": "markdown",
   "metadata": {
    "papermill": {
     "duration": 0.017181,
     "end_time": "2020-12-13T13:24:42.244995",
     "exception": false,
     "start_time": "2020-12-13T13:24:42.227814",
     "status": "completed"
    },
    "tags": []
   },
   "source": [
    "\n"
   ]
  },
  {
   "cell_type": "markdown",
   "metadata": {
    "papermill": {
     "duration": 0.013384,
     "end_time": "2020-12-13T13:24:42.272252",
     "exception": false,
     "start_time": "2020-12-13T13:24:42.258868",
     "status": "completed"
    },
    "tags": []
   },
   "source": []
  },
  {
   "cell_type": "code",
   "execution_count": 2,
   "metadata": {
    "_cell_guid": "79c7e3d0-c299-4dcb-8224-4455121ee9b0",
    "_uuid": "d629ff2d2480ee46fbb7e2d37f6b5fab8052498a",
    "execution": {
     "iopub.execute_input": "2020-12-13T13:24:42.307494Z",
     "iopub.status.busy": "2020-12-13T13:24:42.306430Z",
     "iopub.status.idle": "2020-12-13T13:24:51.262817Z",
     "shell.execute_reply": "2020-12-13T13:24:51.263399Z"
    },
    "papermill": {
     "duration": 8.977603,
     "end_time": "2020-12-13T13:24:51.263598",
     "exception": false,
     "start_time": "2020-12-13T13:24:42.285995",
     "status": "completed"
    },
    "tags": []
   },
   "outputs": [
    {
     "ename": "ModuleNotFoundError",
     "evalue": "No module named 'seaborn'",
     "output_type": "error",
     "traceback": [
      "\u001b[0;31m---------------------------------------------------------------------------\u001b[0m",
      "\u001b[0;31mModuleNotFoundError\u001b[0m                       Traceback (most recent call last)",
      "\u001b[0;32m<ipython-input-2-66a6c942b376>\u001b[0m in \u001b[0;36m<module>\u001b[0;34m\u001b[0m\n\u001b[1;32m      2\u001b[0m \u001b[0;32mimport\u001b[0m \u001b[0mpandas\u001b[0m \u001b[0;32mas\u001b[0m \u001b[0mpd\u001b[0m\u001b[0;34m\u001b[0m\u001b[0;34m\u001b[0m\u001b[0m\n\u001b[1;32m      3\u001b[0m \u001b[0;32mimport\u001b[0m \u001b[0mmatplotlib\u001b[0m\u001b[0;34m.\u001b[0m\u001b[0mpyplot\u001b[0m \u001b[0;32mas\u001b[0m \u001b[0mplt\u001b[0m\u001b[0;34m\u001b[0m\u001b[0;34m\u001b[0m\u001b[0m\n\u001b[0;32m----> 4\u001b[0;31m \u001b[0;32mimport\u001b[0m \u001b[0mseaborn\u001b[0m \u001b[0;32mas\u001b[0m \u001b[0msns\u001b[0m\u001b[0;34m\u001b[0m\u001b[0;34m\u001b[0m\u001b[0m\n\u001b[0m\u001b[1;32m      5\u001b[0m \u001b[0;34m\u001b[0m\u001b[0m\n\u001b[1;32m      6\u001b[0m \u001b[0;32mfrom\u001b[0m \u001b[0msklearn\u001b[0m\u001b[0;34m.\u001b[0m\u001b[0mpreprocessing\u001b[0m \u001b[0;32mimport\u001b[0m \u001b[0mStandardScaler\u001b[0m\u001b[0;34m\u001b[0m\u001b[0;34m\u001b[0m\u001b[0m\n",
      "\u001b[0;31mModuleNotFoundError\u001b[0m: No module named 'seaborn'"
     ]
    }
   ],
   "source": [
    "import numpy as np\n",
    "import pandas as pd\n",
    "import matplotlib.pyplot as plt\n",
    "import seaborn as sns\n",
    "\n",
    "from sklearn.preprocessing import StandardScaler\n",
    "from sklearn.model_selection import train_test_split\n",
    "\n",
    "import tensorflow as tf\n",
    "\n",
    "from sklearn.metrics import classification_report, confusion_matrix"
   ]
  },
  {
   "cell_type": "code",
   "execution_count": 2,
   "metadata": {
    "execution": {
     "iopub.execute_input": "2020-12-13T13:24:51.294632Z",
     "iopub.status.busy": "2020-12-13T13:24:51.294016Z",
     "iopub.status.idle": "2020-12-13T13:24:51.579911Z",
     "shell.execute_reply": "2020-12-13T13:24:51.579148Z"
    },
    "papermill": {
     "duration": 0.3024,
     "end_time": "2020-12-13T13:24:51.580043",
     "exception": false,
     "start_time": "2020-12-13T13:24:51.277643",
     "status": "completed"
    },
    "tags": []
   },
   "outputs": [],
   "source": [
    "dfs = []\n",
    "\n",
    "for label in ['0', '1', '2', '3']:\n",
    "    dfs.append(pd.read_csv('../input/emg-4/' + label + '.csv'))"
   ]
  },
  {
   "cell_type": "code",
   "execution_count": 1,
   "metadata": {
    "execution": {
     "iopub.execute_input": "2020-12-13T13:24:51.615031Z",
     "iopub.status.busy": "2020-12-13T13:24:51.614345Z",
     "iopub.status.idle": "2020-12-13T13:24:51.615912Z",
     "shell.execute_reply": "2020-12-13T13:24:51.616368Z"
    },
    "papermill": {
     "duration": 0.022175,
     "end_time": "2020-12-13T13:24:51.616533",
     "exception": false,
     "start_time": "2020-12-13T13:24:51.594358",
     "status": "completed"
    },
    "tags": []
   },
   "outputs": [
    {
     "ename": "NameError",
     "evalue": "name 'dfs' is not defined",
     "output_type": "error",
     "traceback": [
      "\u001b[0;31m---------------------------------------------------------------------------\u001b[0m",
      "\u001b[0;31mNameError\u001b[0m                                 Traceback (most recent call last)",
      "\u001b[0;32m<ipython-input-1-75c12eccb287>\u001b[0m in \u001b[0;36m<module>\u001b[0;34m\u001b[0m\n\u001b[0;32m----> 1\u001b[0;31m \u001b[0;32mfor\u001b[0m \u001b[0mdf\u001b[0m \u001b[0;32min\u001b[0m \u001b[0mdfs\u001b[0m\u001b[0;34m:\u001b[0m\u001b[0;34m\u001b[0m\u001b[0;34m\u001b[0m\u001b[0m\n\u001b[0m\u001b[1;32m      2\u001b[0m     \u001b[0mdf\u001b[0m\u001b[0;34m.\u001b[0m\u001b[0mcolumns\u001b[0m \u001b[0;34m=\u001b[0m \u001b[0mlist\u001b[0m\u001b[0;34m(\u001b[0m\u001b[0mrange\u001b[0m\u001b[0;34m(\u001b[0m\u001b[0mlen\u001b[0m\u001b[0;34m(\u001b[0m\u001b[0mdf\u001b[0m\u001b[0;34m.\u001b[0m\u001b[0mcolumns\u001b[0m\u001b[0;34m)\u001b[0m\u001b[0;34m)\u001b[0m\u001b[0;34m)\u001b[0m\u001b[0;34m\u001b[0m\u001b[0;34m\u001b[0m\u001b[0m\n",
      "\u001b[0;31mNameError\u001b[0m: name 'dfs' is not defined"
     ]
    }
   ],
   "source": [
    "for df in dfs:\n",
    "    df.columns = list(range(len(df.columns)))"
   ]
  },
  {
   "cell_type": "code",
   "execution_count": 4,
   "metadata": {
    "execution": {
     "iopub.execute_input": "2020-12-13T13:24:51.649887Z",
     "iopub.status.busy": "2020-12-13T13:24:51.649222Z",
     "iopub.status.idle": "2020-12-13T13:24:51.666991Z",
     "shell.execute_reply": "2020-12-13T13:24:51.665427Z"
    },
    "papermill": {
     "duration": 0.035964,
     "end_time": "2020-12-13T13:24:51.667148",
     "exception": false,
     "start_time": "2020-12-13T13:24:51.631184",
     "status": "completed"
    },
    "tags": []
   },
   "outputs": [],
   "source": [
    "data = pd.concat([df for df in dfs], axis=0).reset_index(drop=True)"
   ]
  },
  {
   "cell_type": "code",
   "execution_count": 5,
   "metadata": {
    "execution": {
     "iopub.execute_input": "2020-12-13T13:24:51.707356Z",
     "iopub.status.busy": "2020-12-13T13:24:51.706316Z",
     "iopub.status.idle": "2020-12-13T13:24:51.750399Z",
     "shell.execute_reply": "2020-12-13T13:24:51.750926Z"
    },
    "papermill": {
     "duration": 0.069458,
     "end_time": "2020-12-13T13:24:51.751071",
     "exception": false,
     "start_time": "2020-12-13T13:24:51.681613",
     "status": "completed"
    },
    "tags": []
   },
   "outputs": [
    {
     "data": {
      "text/html": [
       "<div>\n",
       "<style scoped>\n",
       "    .dataframe tbody tr th:only-of-type {\n",
       "        vertical-align: middle;\n",
       "    }\n",
       "\n",
       "    .dataframe tbody tr th {\n",
       "        vertical-align: top;\n",
       "    }\n",
       "\n",
       "    .dataframe thead th {\n",
       "        text-align: right;\n",
       "    }\n",
       "</style>\n",
       "<table border=\"1\" class=\"dataframe\">\n",
       "  <thead>\n",
       "    <tr style=\"text-align: right;\">\n",
       "      <th></th>\n",
       "      <th>0</th>\n",
       "      <th>1</th>\n",
       "      <th>2</th>\n",
       "      <th>3</th>\n",
       "      <th>4</th>\n",
       "      <th>5</th>\n",
       "      <th>6</th>\n",
       "      <th>7</th>\n",
       "      <th>8</th>\n",
       "      <th>9</th>\n",
       "      <th>...</th>\n",
       "      <th>55</th>\n",
       "      <th>56</th>\n",
       "      <th>57</th>\n",
       "      <th>58</th>\n",
       "      <th>59</th>\n",
       "      <th>60</th>\n",
       "      <th>61</th>\n",
       "      <th>62</th>\n",
       "      <th>63</th>\n",
       "      <th>64</th>\n",
       "    </tr>\n",
       "  </thead>\n",
       "  <tbody>\n",
       "    <tr>\n",
       "      <th>0</th>\n",
       "      <td>-47.0</td>\n",
       "      <td>-6.0</td>\n",
       "      <td>-5.0</td>\n",
       "      <td>-7.0</td>\n",
       "      <td>13.0</td>\n",
       "      <td>-1.0</td>\n",
       "      <td>35.0</td>\n",
       "      <td>-10.0</td>\n",
       "      <td>10.0</td>\n",
       "      <td>-4.0</td>\n",
       "      <td>...</td>\n",
       "      <td>-25.0</td>\n",
       "      <td>47.0</td>\n",
       "      <td>6.0</td>\n",
       "      <td>6.0</td>\n",
       "      <td>5.0</td>\n",
       "      <td>13.0</td>\n",
       "      <td>21.0</td>\n",
       "      <td>111.0</td>\n",
       "      <td>15.0</td>\n",
       "      <td>0</td>\n",
       "    </tr>\n",
       "    <tr>\n",
       "      <th>1</th>\n",
       "      <td>-19.0</td>\n",
       "      <td>-8.0</td>\n",
       "      <td>-8.0</td>\n",
       "      <td>-8.0</td>\n",
       "      <td>-21.0</td>\n",
       "      <td>-6.0</td>\n",
       "      <td>-79.0</td>\n",
       "      <td>12.0</td>\n",
       "      <td>0.0</td>\n",
       "      <td>5.0</td>\n",
       "      <td>...</td>\n",
       "      <td>-83.0</td>\n",
       "      <td>7.0</td>\n",
       "      <td>7.0</td>\n",
       "      <td>1.0</td>\n",
       "      <td>-8.0</td>\n",
       "      <td>7.0</td>\n",
       "      <td>21.0</td>\n",
       "      <td>114.0</td>\n",
       "      <td>48.0</td>\n",
       "      <td>0</td>\n",
       "    </tr>\n",
       "    <tr>\n",
       "      <th>2</th>\n",
       "      <td>2.0</td>\n",
       "      <td>3.0</td>\n",
       "      <td>0.0</td>\n",
       "      <td>2.0</td>\n",
       "      <td>0.0</td>\n",
       "      <td>22.0</td>\n",
       "      <td>106.0</td>\n",
       "      <td>-14.0</td>\n",
       "      <td>-16.0</td>\n",
       "      <td>-2.0</td>\n",
       "      <td>...</td>\n",
       "      <td>-38.0</td>\n",
       "      <td>-11.0</td>\n",
       "      <td>4.0</td>\n",
       "      <td>7.0</td>\n",
       "      <td>11.0</td>\n",
       "      <td>33.0</td>\n",
       "      <td>39.0</td>\n",
       "      <td>119.0</td>\n",
       "      <td>43.0</td>\n",
       "      <td>0</td>\n",
       "    </tr>\n",
       "    <tr>\n",
       "      <th>3</th>\n",
       "      <td>6.0</td>\n",
       "      <td>0.0</td>\n",
       "      <td>0.0</td>\n",
       "      <td>-2.0</td>\n",
       "      <td>-14.0</td>\n",
       "      <td>10.0</td>\n",
       "      <td>-51.0</td>\n",
       "      <td>5.0</td>\n",
       "      <td>7.0</td>\n",
       "      <td>0.0</td>\n",
       "      <td>...</td>\n",
       "      <td>38.0</td>\n",
       "      <td>-35.0</td>\n",
       "      <td>-8.0</td>\n",
       "      <td>2.0</td>\n",
       "      <td>6.0</td>\n",
       "      <td>-13.0</td>\n",
       "      <td>-24.0</td>\n",
       "      <td>-112.0</td>\n",
       "      <td>-69.0</td>\n",
       "      <td>0</td>\n",
       "    </tr>\n",
       "    <tr>\n",
       "      <th>4</th>\n",
       "      <td>15.0</td>\n",
       "      <td>-5.0</td>\n",
       "      <td>-5.0</td>\n",
       "      <td>-15.0</td>\n",
       "      <td>12.0</td>\n",
       "      <td>-22.0</td>\n",
       "      <td>-38.0</td>\n",
       "      <td>36.0</td>\n",
       "      <td>9.0</td>\n",
       "      <td>6.0</td>\n",
       "      <td>...</td>\n",
       "      <td>-26.0</td>\n",
       "      <td>5.0</td>\n",
       "      <td>6.0</td>\n",
       "      <td>6.0</td>\n",
       "      <td>11.0</td>\n",
       "      <td>5.0</td>\n",
       "      <td>30.0</td>\n",
       "      <td>-48.0</td>\n",
       "      <td>25.0</td>\n",
       "      <td>0</td>\n",
       "    </tr>\n",
       "    <tr>\n",
       "      <th>...</th>\n",
       "      <td>...</td>\n",
       "      <td>...</td>\n",
       "      <td>...</td>\n",
       "      <td>...</td>\n",
       "      <td>...</td>\n",
       "      <td>...</td>\n",
       "      <td>...</td>\n",
       "      <td>...</td>\n",
       "      <td>...</td>\n",
       "      <td>...</td>\n",
       "      <td>...</td>\n",
       "      <td>...</td>\n",
       "      <td>...</td>\n",
       "      <td>...</td>\n",
       "      <td>...</td>\n",
       "      <td>...</td>\n",
       "      <td>...</td>\n",
       "      <td>...</td>\n",
       "      <td>...</td>\n",
       "      <td>...</td>\n",
       "      <td>...</td>\n",
       "    </tr>\n",
       "    <tr>\n",
       "      <th>11669</th>\n",
       "      <td>-3.0</td>\n",
       "      <td>-1.0</td>\n",
       "      <td>-1.0</td>\n",
       "      <td>-1.0</td>\n",
       "      <td>-28.0</td>\n",
       "      <td>20.0</td>\n",
       "      <td>5.0</td>\n",
       "      <td>0.0</td>\n",
       "      <td>-5.0</td>\n",
       "      <td>0.0</td>\n",
       "      <td>...</td>\n",
       "      <td>-3.0</td>\n",
       "      <td>1.0</td>\n",
       "      <td>4.0</td>\n",
       "      <td>3.0</td>\n",
       "      <td>4.0</td>\n",
       "      <td>-51.0</td>\n",
       "      <td>-49.0</td>\n",
       "      <td>5.0</td>\n",
       "      <td>-9.0</td>\n",
       "      <td>3</td>\n",
       "    </tr>\n",
       "    <tr>\n",
       "      <th>11670</th>\n",
       "      <td>-13.0</td>\n",
       "      <td>-5.0</td>\n",
       "      <td>-4.0</td>\n",
       "      <td>-3.0</td>\n",
       "      <td>-4.0</td>\n",
       "      <td>-24.0</td>\n",
       "      <td>-10.0</td>\n",
       "      <td>-8.0</td>\n",
       "      <td>20.0</td>\n",
       "      <td>9.0</td>\n",
       "      <td>...</td>\n",
       "      <td>6.0</td>\n",
       "      <td>-3.0</td>\n",
       "      <td>-3.0</td>\n",
       "      <td>-3.0</td>\n",
       "      <td>-5.0</td>\n",
       "      <td>-4.0</td>\n",
       "      <td>-45.0</td>\n",
       "      <td>-12.0</td>\n",
       "      <td>-15.0</td>\n",
       "      <td>3</td>\n",
       "    </tr>\n",
       "    <tr>\n",
       "      <th>11671</th>\n",
       "      <td>-1.0</td>\n",
       "      <td>-3.0</td>\n",
       "      <td>-1.0</td>\n",
       "      <td>1.0</td>\n",
       "      <td>30.0</td>\n",
       "      <td>38.0</td>\n",
       "      <td>-1.0</td>\n",
       "      <td>36.0</td>\n",
       "      <td>-10.0</td>\n",
       "      <td>1.0</td>\n",
       "      <td>...</td>\n",
       "      <td>14.0</td>\n",
       "      <td>-8.0</td>\n",
       "      <td>-4.0</td>\n",
       "      <td>-4.0</td>\n",
       "      <td>-4.0</td>\n",
       "      <td>-21.0</td>\n",
       "      <td>-29.0</td>\n",
       "      <td>-5.0</td>\n",
       "      <td>0.0</td>\n",
       "      <td>3</td>\n",
       "    </tr>\n",
       "    <tr>\n",
       "      <th>11672</th>\n",
       "      <td>1.0</td>\n",
       "      <td>4.0</td>\n",
       "      <td>4.0</td>\n",
       "      <td>5.0</td>\n",
       "      <td>9.0</td>\n",
       "      <td>-10.0</td>\n",
       "      <td>4.0</td>\n",
       "      <td>1.0</td>\n",
       "      <td>-2.0</td>\n",
       "      <td>-1.0</td>\n",
       "      <td>...</td>\n",
       "      <td>-16.0</td>\n",
       "      <td>-3.0</td>\n",
       "      <td>0.0</td>\n",
       "      <td>-3.0</td>\n",
       "      <td>-5.0</td>\n",
       "      <td>-36.0</td>\n",
       "      <td>-90.0</td>\n",
       "      <td>3.0</td>\n",
       "      <td>5.0</td>\n",
       "      <td>3</td>\n",
       "    </tr>\n",
       "    <tr>\n",
       "      <th>11673</th>\n",
       "      <td>-2.0</td>\n",
       "      <td>4.0</td>\n",
       "      <td>2.0</td>\n",
       "      <td>-4.0</td>\n",
       "      <td>12.0</td>\n",
       "      <td>3.0</td>\n",
       "      <td>-2.0</td>\n",
       "      <td>9.0</td>\n",
       "      <td>-8.0</td>\n",
       "      <td>-2.0</td>\n",
       "      <td>...</td>\n",
       "      <td>2.0</td>\n",
       "      <td>1.0</td>\n",
       "      <td>0.0</td>\n",
       "      <td>-1.0</td>\n",
       "      <td>-2.0</td>\n",
       "      <td>-30.0</td>\n",
       "      <td>64.0</td>\n",
       "      <td>11.0</td>\n",
       "      <td>5.0</td>\n",
       "      <td>3</td>\n",
       "    </tr>\n",
       "  </tbody>\n",
       "</table>\n",
       "<p>11674 rows × 65 columns</p>\n",
       "</div>"
      ],
      "text/plain": [
       "         0    1    2     3     4     5      6     7     8    9   ...    55  \\\n",
       "0     -47.0 -6.0 -5.0  -7.0  13.0  -1.0   35.0 -10.0  10.0 -4.0  ... -25.0   \n",
       "1     -19.0 -8.0 -8.0  -8.0 -21.0  -6.0  -79.0  12.0   0.0  5.0  ... -83.0   \n",
       "2       2.0  3.0  0.0   2.0   0.0  22.0  106.0 -14.0 -16.0 -2.0  ... -38.0   \n",
       "3       6.0  0.0  0.0  -2.0 -14.0  10.0  -51.0   5.0   7.0  0.0  ...  38.0   \n",
       "4      15.0 -5.0 -5.0 -15.0  12.0 -22.0  -38.0  36.0   9.0  6.0  ... -26.0   \n",
       "...     ...  ...  ...   ...   ...   ...    ...   ...   ...  ...  ...   ...   \n",
       "11669  -3.0 -1.0 -1.0  -1.0 -28.0  20.0    5.0   0.0  -5.0  0.0  ...  -3.0   \n",
       "11670 -13.0 -5.0 -4.0  -3.0  -4.0 -24.0  -10.0  -8.0  20.0  9.0  ...   6.0   \n",
       "11671  -1.0 -3.0 -1.0   1.0  30.0  38.0   -1.0  36.0 -10.0  1.0  ...  14.0   \n",
       "11672   1.0  4.0  4.0   5.0   9.0 -10.0    4.0   1.0  -2.0 -1.0  ... -16.0   \n",
       "11673  -2.0  4.0  2.0  -4.0  12.0   3.0   -2.0   9.0  -8.0 -2.0  ...   2.0   \n",
       "\n",
       "         56   57   58    59    60    61     62    63  64  \n",
       "0      47.0  6.0  6.0   5.0  13.0  21.0  111.0  15.0   0  \n",
       "1       7.0  7.0  1.0  -8.0   7.0  21.0  114.0  48.0   0  \n",
       "2     -11.0  4.0  7.0  11.0  33.0  39.0  119.0  43.0   0  \n",
       "3     -35.0 -8.0  2.0   6.0 -13.0 -24.0 -112.0 -69.0   0  \n",
       "4       5.0  6.0  6.0  11.0   5.0  30.0  -48.0  25.0   0  \n",
       "...     ...  ...  ...   ...   ...   ...    ...   ...  ..  \n",
       "11669   1.0  4.0  3.0   4.0 -51.0 -49.0    5.0  -9.0   3  \n",
       "11670  -3.0 -3.0 -3.0  -5.0  -4.0 -45.0  -12.0 -15.0   3  \n",
       "11671  -8.0 -4.0 -4.0  -4.0 -21.0 -29.0   -5.0   0.0   3  \n",
       "11672  -3.0  0.0 -3.0  -5.0 -36.0 -90.0    3.0   5.0   3  \n",
       "11673   1.0  0.0 -1.0  -2.0 -30.0  64.0   11.0   5.0   3  \n",
       "\n",
       "[11674 rows x 65 columns]"
      ]
     },
     "execution_count": 5,
     "metadata": {},
     "output_type": "execute_result"
    }
   ],
   "source": [
    "data"
   ]
  },
  {
   "cell_type": "code",
   "execution_count": 6,
   "metadata": {
    "execution": {
     "iopub.execute_input": "2020-12-13T13:24:51.787541Z",
     "iopub.status.busy": "2020-12-13T13:24:51.786734Z",
     "iopub.status.idle": "2020-12-13T13:24:51.795875Z",
     "shell.execute_reply": "2020-12-13T13:24:51.795043Z"
    },
    "papermill": {
     "duration": 0.029483,
     "end_time": "2020-12-13T13:24:51.796039",
     "exception": false,
     "start_time": "2020-12-13T13:24:51.766556",
     "status": "completed"
    },
    "tags": []
   },
   "outputs": [
    {
     "name": "stdout",
     "output_type": "stream",
     "text": [
      "Total missing values: 0\n"
     ]
    }
   ],
   "source": [
    "print(\"Total missing values:\", data.isna().sum().sum())"
   ]
  },
  {
   "cell_type": "markdown",
   "metadata": {
    "papermill": {
     "duration": 0.01558,
     "end_time": "2020-12-13T13:24:51.827785",
     "exception": false,
     "start_time": "2020-12-13T13:24:51.812205",
     "status": "completed"
    },
    "tags": []
   },
   "source": [
    "# Splitting/Scaling"
   ]
  },
  {
   "cell_type": "code",
   "execution_count": 7,
   "metadata": {
    "execution": {
     "iopub.execute_input": "2020-12-13T13:24:51.869922Z",
     "iopub.status.busy": "2020-12-13T13:24:51.869242Z",
     "iopub.status.idle": "2020-12-13T13:24:51.876092Z",
     "shell.execute_reply": "2020-12-13T13:24:51.875554Z"
    },
    "papermill": {
     "duration": 0.0322,
     "end_time": "2020-12-13T13:24:51.876212",
     "exception": false,
     "start_time": "2020-12-13T13:24:51.844012",
     "status": "completed"
    },
    "tags": []
   },
   "outputs": [],
   "source": [
    "y = data[64].copy()\n",
    "X = data.drop(64, axis=1).copy()"
   ]
  },
  {
   "cell_type": "code",
   "execution_count": 8,
   "metadata": {
    "execution": {
     "iopub.execute_input": "2020-12-13T13:24:51.914997Z",
     "iopub.status.busy": "2020-12-13T13:24:51.914334Z",
     "iopub.status.idle": "2020-12-13T13:24:51.939126Z",
     "shell.execute_reply": "2020-12-13T13:24:51.938520Z"
    },
    "papermill": {
     "duration": 0.047211,
     "end_time": "2020-12-13T13:24:51.939238",
     "exception": false,
     "start_time": "2020-12-13T13:24:51.892027",
     "status": "completed"
    },
    "tags": []
   },
   "outputs": [],
   "source": [
    "scaler = StandardScaler()\n",
    "\n",
    "X = scaler.fit_transform(X)"
   ]
  },
  {
   "cell_type": "code",
   "execution_count": 9,
   "metadata": {
    "execution": {
     "iopub.execute_input": "2020-12-13T13:24:51.975120Z",
     "iopub.status.busy": "2020-12-13T13:24:51.974441Z",
     "iopub.status.idle": "2020-12-13T13:24:51.990337Z",
     "shell.execute_reply": "2020-12-13T13:24:51.990975Z"
    },
    "papermill": {
     "duration": 0.035846,
     "end_time": "2020-12-13T13:24:51.991141",
     "exception": false,
     "start_time": "2020-12-13T13:24:51.955295",
     "status": "completed"
    },
    "tags": []
   },
   "outputs": [],
   "source": [
    "X_train, X_test, y_train, y_test = train_test_split(X, y, train_size=0.7, random_state=100)"
   ]
  },
  {
   "cell_type": "markdown",
   "metadata": {
    "papermill": {
     "duration": 0.016268,
     "end_time": "2020-12-13T13:24:52.025139",
     "exception": false,
     "start_time": "2020-12-13T13:24:52.008871",
     "status": "completed"
    },
    "tags": []
   },
   "source": [
    "# Training"
   ]
  },
  {
   "cell_type": "code",
   "execution_count": 10,
   "metadata": {
    "execution": {
     "iopub.execute_input": "2020-12-13T13:24:52.062871Z",
     "iopub.status.busy": "2020-12-13T13:24:52.061850Z",
     "iopub.status.idle": "2020-12-13T13:24:52.067208Z",
     "shell.execute_reply": "2020-12-13T13:24:52.067711Z"
    },
    "papermill": {
     "duration": 0.025586,
     "end_time": "2020-12-13T13:24:52.067877",
     "exception": false,
     "start_time": "2020-12-13T13:24:52.042291",
     "status": "completed"
    },
    "tags": []
   },
   "outputs": [
    {
     "data": {
      "text/plain": [
       "(8171, 64)"
      ]
     },
     "execution_count": 10,
     "metadata": {},
     "output_type": "execute_result"
    }
   ],
   "source": [
    "X_train.shape"
   ]
  },
  {
   "cell_type": "code",
   "execution_count": 11,
   "metadata": {
    "execution": {
     "iopub.execute_input": "2020-12-13T13:24:52.105875Z",
     "iopub.status.busy": "2020-12-13T13:24:52.104907Z",
     "iopub.status.idle": "2020-12-13T13:27:06.180915Z",
     "shell.execute_reply": "2020-12-13T13:27:06.180259Z"
    },
    "papermill": {
     "duration": 134.096818,
     "end_time": "2020-12-13T13:27:06.181047",
     "exception": false,
     "start_time": "2020-12-13T13:24:52.084229",
     "status": "completed"
    },
    "tags": []
   },
   "outputs": [
    {
     "name": "stdout",
     "output_type": "stream",
     "text": [
      "Epoch 1/50\n",
      "205/205 [==============================] - 3s 14ms/step - loss: 0.7109 - accuracy: 0.7222 - val_loss: 0.3590 - val_accuracy: 0.8832\n",
      "Epoch 2/50\n",
      "205/205 [==============================] - 3s 13ms/step - loss: 0.2863 - accuracy: 0.9030 - val_loss: 0.2575 - val_accuracy: 0.9174\n",
      "Epoch 3/50\n",
      "205/205 [==============================] - 2s 12ms/step - loss: 0.1814 - accuracy: 0.9376 - val_loss: 0.2808 - val_accuracy: 0.9070\n",
      "Epoch 4/50\n",
      "205/205 [==============================] - 2s 12ms/step - loss: 0.1400 - accuracy: 0.9535 - val_loss: 0.2816 - val_accuracy: 0.9193\n",
      "Epoch 5/50\n",
      "205/205 [==============================] - 2s 12ms/step - loss: 0.1067 - accuracy: 0.9633 - val_loss: 0.2778 - val_accuracy: 0.9217\n",
      "Epoch 6/50\n",
      "205/205 [==============================] - 3s 13ms/step - loss: 0.0734 - accuracy: 0.9757 - val_loss: 0.2812 - val_accuracy: 0.9260\n",
      "Epoch 7/50\n",
      "205/205 [==============================] - 3s 13ms/step - loss: 0.0616 - accuracy: 0.9812 - val_loss: 0.3098 - val_accuracy: 0.9223\n",
      "Epoch 8/50\n",
      "205/205 [==============================] - 3s 14ms/step - loss: 0.0576 - accuracy: 0.9813 - val_loss: 0.3273 - val_accuracy: 0.9266\n",
      "Epoch 9/50\n",
      "205/205 [==============================] - 3s 13ms/step - loss: 0.0874 - accuracy: 0.9709 - val_loss: 0.3648 - val_accuracy: 0.9211\n",
      "Epoch 10/50\n",
      "205/205 [==============================] - 3s 15ms/step - loss: 0.0679 - accuracy: 0.9764 - val_loss: 0.3033 - val_accuracy: 0.9254\n",
      "Epoch 11/50\n",
      "205/205 [==============================] - 3s 13ms/step - loss: 0.0449 - accuracy: 0.9852 - val_loss: 0.3075 - val_accuracy: 0.9303\n",
      "Epoch 12/50\n",
      "205/205 [==============================] - 3s 12ms/step - loss: 0.0645 - accuracy: 0.9804 - val_loss: 0.3170 - val_accuracy: 0.9272\n",
      "Epoch 13/50\n",
      "205/205 [==============================] - 3s 13ms/step - loss: 0.0242 - accuracy: 0.9930 - val_loss: 0.2783 - val_accuracy: 0.9413\n",
      "Epoch 14/50\n",
      "205/205 [==============================] - 3s 13ms/step - loss: 0.0103 - accuracy: 0.9974 - val_loss: 0.2743 - val_accuracy: 0.9443\n",
      "Epoch 15/50\n",
      "205/205 [==============================] - 2s 12ms/step - loss: 0.0097 - accuracy: 0.9971 - val_loss: 0.2651 - val_accuracy: 0.9431\n",
      "Epoch 16/50\n",
      "205/205 [==============================] - 2s 12ms/step - loss: 0.0078 - accuracy: 0.9985 - val_loss: 0.2670 - val_accuracy: 0.9419\n",
      "Epoch 17/50\n",
      "205/205 [==============================] - 3s 13ms/step - loss: 0.0065 - accuracy: 0.9989 - val_loss: 0.2627 - val_accuracy: 0.9443\n",
      "Epoch 18/50\n",
      "205/205 [==============================] - 3s 13ms/step - loss: 0.0055 - accuracy: 0.9989 - val_loss: 0.2688 - val_accuracy: 0.9431\n",
      "Epoch 19/50\n",
      "205/205 [==============================] - 3s 13ms/step - loss: 0.0048 - accuracy: 0.9997 - val_loss: 0.2693 - val_accuracy: 0.9431\n",
      "Epoch 20/50\n",
      "205/205 [==============================] - 3s 13ms/step - loss: 0.0042 - accuracy: 0.9992 - val_loss: 0.2662 - val_accuracy: 0.9425\n",
      "Epoch 21/50\n",
      "205/205 [==============================] - 3s 12ms/step - loss: 0.0045 - accuracy: 0.9991 - val_loss: 0.2710 - val_accuracy: 0.9431\n",
      "Epoch 22/50\n",
      "205/205 [==============================] - 3s 13ms/step - loss: 0.0029 - accuracy: 1.0000 - val_loss: 0.2728 - val_accuracy: 0.9437\n",
      "Epoch 23/50\n",
      "205/205 [==============================] - 3s 13ms/step - loss: 0.0023 - accuracy: 1.0000 - val_loss: 0.2730 - val_accuracy: 0.9437\n",
      "Epoch 24/50\n",
      "205/205 [==============================] - 3s 13ms/step - loss: 0.0033 - accuracy: 0.9992 - val_loss: 0.2737 - val_accuracy: 0.9450\n",
      "Epoch 25/50\n",
      "205/205 [==============================] - 3s 13ms/step - loss: 0.0028 - accuracy: 0.9998 - val_loss: 0.2738 - val_accuracy: 0.9456\n",
      "Epoch 26/50\n",
      "205/205 [==============================] - 3s 13ms/step - loss: 0.0028 - accuracy: 0.9997 - val_loss: 0.2740 - val_accuracy: 0.9456\n",
      "Epoch 27/50\n",
      "205/205 [==============================] - 2s 12ms/step - loss: 0.0026 - accuracy: 0.9997 - val_loss: 0.2740 - val_accuracy: 0.9456\n",
      "Epoch 28/50\n",
      "205/205 [==============================] - 2s 12ms/step - loss: 0.0026 - accuracy: 0.9995 - val_loss: 0.2741 - val_accuracy: 0.9462\n",
      "Epoch 29/50\n",
      "205/205 [==============================] - 3s 13ms/step - loss: 0.0027 - accuracy: 0.9998 - val_loss: 0.2741 - val_accuracy: 0.9462\n",
      "Epoch 30/50\n",
      "205/205 [==============================] - 3s 14ms/step - loss: 0.0023 - accuracy: 1.0000 - val_loss: 0.2750 - val_accuracy: 0.9462\n",
      "Epoch 31/50\n",
      "205/205 [==============================] - 3s 13ms/step - loss: 0.0027 - accuracy: 0.9997 - val_loss: 0.2763 - val_accuracy: 0.9462\n",
      "Epoch 32/50\n",
      "205/205 [==============================] - 3s 14ms/step - loss: 0.0026 - accuracy: 0.9998 - val_loss: 0.2764 - val_accuracy: 0.9456\n",
      "Epoch 33/50\n",
      "205/205 [==============================] - 3s 13ms/step - loss: 0.0027 - accuracy: 0.9997 - val_loss: 0.2763 - val_accuracy: 0.9450\n",
      "Epoch 34/50\n",
      "205/205 [==============================] - 3s 13ms/step - loss: 0.0027 - accuracy: 0.9995 - val_loss: 0.2763 - val_accuracy: 0.9456\n",
      "Epoch 35/50\n",
      "205/205 [==============================] - 3s 12ms/step - loss: 0.0025 - accuracy: 0.9997 - val_loss: 0.2762 - val_accuracy: 0.9456\n",
      "Epoch 36/50\n",
      "205/205 [==============================] - 2s 12ms/step - loss: 0.0024 - accuracy: 0.9997 - val_loss: 0.2762 - val_accuracy: 0.9456\n",
      "Epoch 37/50\n",
      "205/205 [==============================] - 3s 13ms/step - loss: 0.0032 - accuracy: 0.9992 - val_loss: 0.2763 - val_accuracy: 0.9456\n",
      "Epoch 38/50\n",
      "205/205 [==============================] - 3s 13ms/step - loss: 0.0035 - accuracy: 0.9992 - val_loss: 0.2761 - val_accuracy: 0.9456\n",
      "Epoch 39/50\n",
      "205/205 [==============================] - 3s 13ms/step - loss: 0.0025 - accuracy: 1.0000 - val_loss: 0.2761 - val_accuracy: 0.9456\n",
      "Epoch 40/50\n",
      "205/205 [==============================] - 3s 13ms/step - loss: 0.0027 - accuracy: 0.9997 - val_loss: 0.2762 - val_accuracy: 0.9462\n",
      "Epoch 41/50\n",
      "205/205 [==============================] - 3s 13ms/step - loss: 0.0027 - accuracy: 0.9997 - val_loss: 0.2762 - val_accuracy: 0.9462\n",
      "Epoch 42/50\n",
      "205/205 [==============================] - 3s 13ms/step - loss: 0.0022 - accuracy: 1.0000 - val_loss: 0.2763 - val_accuracy: 0.9462\n",
      "Epoch 43/50\n",
      "205/205 [==============================] - 3s 13ms/step - loss: 0.0023 - accuracy: 0.9997 - val_loss: 0.2763 - val_accuracy: 0.9462\n",
      "Epoch 44/50\n",
      "205/205 [==============================] - 3s 13ms/step - loss: 0.0023 - accuracy: 0.9998 - val_loss: 0.2763 - val_accuracy: 0.9462\n",
      "Epoch 45/50\n",
      "205/205 [==============================] - 3s 12ms/step - loss: 0.0023 - accuracy: 0.9998 - val_loss: 0.2763 - val_accuracy: 0.9462\n",
      "Epoch 46/50\n",
      "205/205 [==============================] - 3s 13ms/step - loss: 0.0024 - accuracy: 1.0000 - val_loss: 0.2763 - val_accuracy: 0.9462\n",
      "Epoch 47/50\n",
      "205/205 [==============================] - 3s 13ms/step - loss: 0.0023 - accuracy: 0.9998 - val_loss: 0.2763 - val_accuracy: 0.9462\n",
      "Epoch 48/50\n",
      "205/205 [==============================] - 3s 12ms/step - loss: 0.0019 - accuracy: 1.0000 - val_loss: 0.2764 - val_accuracy: 0.9462\n",
      "Epoch 49/50\n",
      "205/205 [==============================] - 3s 13ms/step - loss: 0.0022 - accuracy: 0.9998 - val_loss: 0.2764 - val_accuracy: 0.9462\n",
      "Epoch 50/50\n",
      "205/205 [==============================] - 3s 12ms/step - loss: 0.0031 - accuracy: 0.9991 - val_loss: 0.2764 - val_accuracy: 0.9462\n"
     ]
    }
   ],
   "source": [
    "inputs = tf.keras.Input(shape=(X.shape[1],))\n",
    "x = tf.keras.layers.Dense(1024, activation='relu')(inputs)\n",
    "x = tf.keras.layers.Dropout(0.2)(x)\n",
    "x = tf.keras.layers.Dense(1024, activation='relu')(x)\n",
    "x = tf.keras.layers.Dropout(0.2)(x)\n",
    "outputs = tf.keras.layers.Dense(4, activation='softmax')(x)\n",
    "\n",
    "model = tf.keras.Model(inputs, outputs)\n",
    "\n",
    "\n",
    "model.compile(\n",
    "    optimizer='adam',\n",
    "    loss='sparse_categorical_crossentropy',\n",
    "    metrics=['accuracy']\n",
    ")\n",
    "\n",
    "batch_size = 32\n",
    "epochs = 50\n",
    "\n",
    "history = model.fit(\n",
    "    X_train,\n",
    "    y_train,\n",
    "    validation_split=0.2,\n",
    "    batch_size=batch_size,\n",
    "    epochs=epochs,\n",
    "    callbacks=[\n",
    "        tf.keras.callbacks.ReduceLROnPlateau()\n",
    "    ]\n",
    ")"
   ]
  },
  {
   "cell_type": "markdown",
   "metadata": {
    "papermill": {
     "duration": 0.800795,
     "end_time": "2020-12-13T13:27:07.752625",
     "exception": false,
     "start_time": "2020-12-13T13:27:06.951830",
     "status": "completed"
    },
    "tags": []
   },
   "source": [
    "# Results"
   ]
  },
  {
   "cell_type": "code",
   "execution_count": 12,
   "metadata": {
    "execution": {
     "iopub.execute_input": "2020-12-13T13:27:09.366804Z",
     "iopub.status.busy": "2020-12-13T13:27:09.366087Z",
     "iopub.status.idle": "2020-12-13T13:27:09.630447Z",
     "shell.execute_reply": "2020-12-13T13:27:09.629719Z"
    },
    "papermill": {
     "duration": 1.049409,
     "end_time": "2020-12-13T13:27:09.630566",
     "exception": false,
     "start_time": "2020-12-13T13:27:08.581157",
     "status": "completed"
    },
    "tags": []
   },
   "outputs": [
    {
     "data": {
      "image/png": "[encoded data removed]",
      "text/plain": [
       "<Figure size 1152x720 with 1 Axes>"
      ]
     },
     "metadata": {
      "needs_background": "light"
     },
     "output_type": "display_data"
    }
   ],
   "source": [
    "plt.figure(figsize=(16, 10))\n",
    "\n",
    "plt.plot(range(epochs), history.history['loss'], label=\"Training Loss\")\n",
    "plt.plot(range(epochs), history.history['val_loss'], label=\"Validation Loss\")\n",
    "\n",
    "plt.xlabel(\"Epoch\")\n",
    "plt.ylabel(\"Loss\")\n",
    "plt.legend()\n",
    "plt.title(\"Loss Over Time\")\n",
    "\n",
    "plt.show()"
   ]
  },
  {
   "cell_type": "code",
   "execution_count": 13,
   "metadata": {
    "execution": {
     "iopub.execute_input": "2020-12-13T13:27:11.247398Z",
     "iopub.status.busy": "2020-12-13T13:27:11.246351Z",
     "iopub.status.idle": "2020-12-13T13:27:11.667944Z",
     "shell.execute_reply": "2020-12-13T13:27:11.666809Z"
    },
    "papermill": {
     "duration": 1.258621,
     "end_time": "2020-12-13T13:27:11.668139",
     "exception": false,
     "start_time": "2020-12-13T13:27:10.409518",
     "status": "completed"
    },
    "tags": []
   },
   "outputs": [
    {
     "name": "stdout",
     "output_type": "stream",
     "text": [
      "110/110 [==============================] - 0s 3ms/step - loss: 0.2059 - accuracy: 0.9560\n"
     ]
    },
    {
     "data": {
      "text/plain": [
       "[0.20591410994529724, 0.956037700176239]"
      ]
     },
     "execution_count": 13,
     "metadata": {},
     "output_type": "execute_result"
    }
   ],
   "source": [
    "model.evaluate(X_test, y_test)"
   ]
  },
  {
   "cell_type": "code",
   "execution_count": 14,
   "metadata": {
    "execution": {
     "iopub.execute_input": "2020-12-13T13:27:13.289388Z",
     "iopub.status.busy": "2020-12-13T13:27:13.288643Z",
     "iopub.status.idle": "2020-12-13T13:27:13.683104Z",
     "shell.execute_reply": "2020-12-13T13:27:13.682459Z"
    },
    "papermill": {
     "duration": 1.19457,
     "end_time": "2020-12-13T13:27:13.683229",
     "exception": false,
     "start_time": "2020-12-13T13:27:12.488659",
     "status": "completed"
    },
    "tags": []
   },
   "outputs": [],
   "source": [
    "y_true = np.array(y_test)\n",
    "y_pred = np.array(list(map(lambda x: np.argmax(x), model.predict(X_test))))"
   ]
  },
  {
   "cell_type": "code",
   "execution_count": 15,
   "metadata": {
    "execution": {
     "iopub.execute_input": "2020-12-13T13:27:15.280376Z",
     "iopub.status.busy": "2020-12-13T13:27:15.279329Z",
     "iopub.status.idle": "2020-12-13T13:27:15.427462Z",
     "shell.execute_reply": "2020-12-13T13:27:15.426788Z"
    },
    "papermill": {
     "duration": 0.941081,
     "end_time": "2020-12-13T13:27:15.427577",
     "exception": false,
     "start_time": "2020-12-13T13:27:14.486496",
     "status": "completed"
    },
    "tags": []
   },
   "outputs": [
    {
     "data": {
      "image/png": "[encoded data removed]",
      "text/plain": [
       "<Figure size 432x432 with 1 Axes>"
      ]
     },
     "metadata": {
      "needs_background": "light"
     },
     "output_type": "display_data"
    }
   ],
   "source": [
    "cm = confusion_matrix(y_true, y_pred)\n",
    "\n",
    "plt.figure(figsize=(6, 6))\n",
    "sns.heatmap(cm, annot=True, fmt='g', cmap='Blues', cbar=False)\n",
    "plt.xlabel(\"Predicted\")\n",
    "plt.ylabel(\"Actual\")\n",
    "plt.title(\"Confusion Matrix\")\n",
    "plt.show()"
   ]
  },
  {
   "cell_type": "code",
   "execution_count": 16,
   "metadata": {
    "execution": {
     "iopub.execute_input": "2020-12-13T13:27:17.016341Z",
     "iopub.status.busy": "2020-12-13T13:27:17.015371Z",
     "iopub.status.idle": "2020-12-13T13:27:17.033486Z",
     "shell.execute_reply": "2020-12-13T13:27:17.032953Z"
    },
    "papermill": {
     "duration": 0.803627,
     "end_time": "2020-12-13T13:27:17.033625",
     "exception": false,
     "start_time": "2020-12-13T13:27:16.229998",
     "status": "completed"
    },
    "tags": []
   },
   "outputs": [
    {
     "name": "stdout",
     "output_type": "stream",
     "text": [
      "              precision    recall  f1-score   support\n",
      "\n",
      "           0       0.98      0.96      0.97       864\n",
      "           1       0.95      0.98      0.97       824\n",
      "           2       0.96      0.94      0.95       924\n",
      "           3       0.94      0.94      0.94       891\n",
      "\n",
      "    accuracy                           0.96      3503\n",
      "   macro avg       0.96      0.96      0.96      3503\n",
      "weighted avg       0.96      0.96      0.96      3503\n",
      "\n"
     ]
    }
   ],
   "source": [
    "print(classification_report(y_true, y_pred))"
   ]
  },
  {
   "cell_type": "markdown",
   "metadata": {
    "papermill": {
     "duration": 0.805899,
     "end_time": "2020-12-13T13:27:18.633336",
     "exception": false,
     "start_time": "2020-12-13T13:27:17.827437",
     "status": "completed"
    },
    "tags": []
   },
   "source": []
  }
 ],
 "metadata": {
  "kernelspec": {
   "display_name": "Python 3",
   "language": "python",
   "name": "python3"
  },
  "language_info": {
   "codemirror_mode": {
    "name": "ipython",
    "version": 3
   },
   "file_extension": ".py",
   "mimetype": "text/x-python",
   "name": "python",
   "nbconvert_exporter": "python",
   "pygments_lexer": "ipython3",
   "version": "3.9.0+"
  },
  "papermill": {
   "duration": 163.002408,
   "end_time": "2020-12-13T13:27:19.607343",
   "environment_variables": {},
   "exception": null,
   "input_path": "__notebook__.ipynb",
   "output_path": "__notebook__.ipynb",
   "parameters": {},
   "start_time": "2020-12-13T13:24:36.604935",
   "version": "2.1.0"
  }
 },
 "nbformat": 4,
 "nbformat_minor": 4
}
